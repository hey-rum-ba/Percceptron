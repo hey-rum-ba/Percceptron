{
 "cells": [
  {
   "cell_type": "code",
   "execution_count": 32,
   "metadata": {},
   "outputs": [],
   "source": [
    "import sympy as sym"
   ]
  },
  {
   "cell_type": "code",
   "execution_count": 33,
   "metadata": {},
   "outputs": [],
   "source": [
    "def newtonFunction(x):\n",
    "    return pow(x,3) - pow(x,2) - 1"
   ]
  },
  {
   "cell_type": "code",
   "execution_count": 34,
   "metadata": {},
   "outputs": [],
   "source": [
    "def derivativeFunction(x):\n",
    "    return 3 * pow(x,2) - 2 *pow(x,1)"
   ]
  },
  {
   "cell_type": "code",
   "execution_count": 35,
   "metadata": {},
   "outputs": [],
   "source": [
    "def newton( x ):\n",
    "    count = 0\n",
    "    \n",
    "    h = newtonFunction(x)/derivativeFunction(x)\n",
    "    for i in range(2):\n",
    "        h = newtonFunction(x)/derivativeFunction(x)\n",
    "        x = x - h   \n",
    "        count = count + 1   \n",
    "        print(f\"After the {count} iteration, the value of the root x is approx= {x}\")"
   ]
  },
  {
   "cell_type": "code",
   "execution_count": 36,
   "metadata": {},
   "outputs": [
    {
     "name": "stdout",
     "output_type": "stream",
     "text": [
      "After the 1 iteration, the value of the root x is approx= 2.0\n",
      "After the 2 iteration, the value of the root x is approx= 1.625\n"
     ]
    }
   ],
   "source": [
    "x0 = 1\n",
    "newton(x0)"
   ]
  }
 ],
 "metadata": {
  "interpreter": {
   "hash": "6d6709c75527802b5c851cbb130d75a04b8b4a390841f09a60780b669e1e8c0d"
  },
  "kernelspec": {
   "display_name": "Python 3.10.2 64-bit",
   "language": "python",
   "name": "python3"
  },
  "language_info": {
   "codemirror_mode": {
    "name": "ipython",
    "version": 3
   },
   "file_extension": ".py",
   "mimetype": "text/x-python",
   "name": "python",
   "nbconvert_exporter": "python",
   "pygments_lexer": "ipython3",
   "version": "3.10.4"
  },
  "orig_nbformat": 4
 },
 "nbformat": 4,
 "nbformat_minor": 2
}
