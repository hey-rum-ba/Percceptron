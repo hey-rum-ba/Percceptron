{
 "cells": [
  {
   "cell_type": "code",
   "execution_count": 148,
   "metadata": {},
   "outputs": [],
   "source": [
    "import numpy as np\n",
    "import matplotlib.pyplot as plt"
   ]
  },
  {
   "cell_type": "code",
   "execution_count": 149,
   "metadata": {},
   "outputs": [],
   "source": [
    "# Defining the Gauusian function :\n",
    "# phi(x) = exp( -(x-mu)^2 / (2*sigma^2) )\n",
    "# mu = mean of the distribution or the peak\n",
    "#  hence the double bar gives the euclidean distance from the mean.\n",
    "def gaussian_function(x, t):\n",
    "    return np.exp(-1 * np.linalg.norm(x - t)**2)\n"
   ]
  },
  {
   "cell_type": "code",
   "execution_count": 150,
   "metadata": {},
   "outputs": [],
   "source": [
    "def predict_matrix(point, weights):\n",
    "    gaussian_rbf_0 = gaussian_function(np.array(point), c1)\n",
    "    gaussian_rbf_1 = gaussian_function(np.array(point), c2)\n",
    "    gaussian_rbf_2 = gaussian_function(np.array(point), c3)\n",
    "    gaussian_rbf_3 = gaussian_function(np.array(point), c4)\n",
    "    A = np.array([gaussian_rbf_0, gaussian_rbf_1,gaussian_rbf_2,gaussian_rbf_3, 1])\n",
    "    return np.round(A.dot(weights))"
   ]
  },
  {
   "cell_type": "code",
   "execution_count": 151,
   "metadata": {},
   "outputs": [],
   "source": [
    "# neural network architecture of 2-4-1\n",
    "\n",
    "# 2 node input (x1, x2) (input layer)\n",
    "# 4 node (each for one peak) (hidden layer)\n",
    "# 1 node output (output layer)\n",
    "# To find the weights for the edges to the 1-output unit. Weights associated would be:\n",
    "\n",
    "# edge joining 1st node (peak1 output) to the output node\n",
    "# edge joining 2nd node (peak2 output) to the output node\n",
    "# edge joining 3rd node (peak3 output) to the output node\n",
    "# edge joining 4th node (peak4 output) to the output node\n",
    "# bias edge\n",
    "\n",
    "# Hence, in the mapping function, first I calculated the similarity between the inputs and the peaks.\n",
    "# Then, to find w used the equation Aw= Y in matrix form.\n",
    "# Each row of A consists of\n",
    "\n",
    "# index[0]: similarity of point with peak1\n",
    "# index[1]: similarity of point with peak2\n",
    "# index[2]: similarity of point with peak3\n",
    "# index[3]: similarity of point with peak4\n",
    "# index[4]: Bias input (1)\n",
    "# Y: Output associated with the input (shape: (5,1))\n",
    "\n",
    "# W is calculated using the same equation we use to solve linear regression using a closed solution (normal equation).\n",
    "\n",
    "def mapping(X1, X2, ys, mu1, mu2,mu3,mu4):\n",
    "    phi_1 = [gaussian_function(i, mu1) for i in zip(X1, X2)]\n",
    "    phi_2 = [gaussian_function(i, mu2) for i in zip(X1, X2)]\n",
    "    phi_3 = [gaussian_function(i, mu3) for i in zip(X1, X2)]\n",
    "    phi_4 = [gaussian_function(i, mu4) for i in zip(X1, X2)]\n",
    "\n",
    "    print(phi_1)\n",
    "    print(phi_2)\n",
    "    print(phi_3)\n",
    "    print(phi_4)\n",
    "    \n",
    "    # ploting the gaussian and decision boundary\n",
    "    plt.subplot(1, 2, 2)\n",
    "    plt.gcf().set_facecolor('white')\n",
    "    plt.scatter(phi_1[0], phi_2[0], label=\"Class_0\")\n",
    "    plt.scatter(phi_1[1], phi_2[1], label=\"Class_1\")\n",
    "    plt.scatter(phi_1[2], phi_2[2], label=\"Class_1\")\n",
    "    plt.scatter(phi_1[3], phi_2[3], label=\"Class_0\")\n",
    "    plt.plot([0, 0.95], [0.95, 0], \"k--\")\n",
    "    plt.xlabel(f\"$c1$\", fontsize=20)\n",
    "    plt.ylabel(f\"$c2$\", fontsize=20)\n",
    "    plt.title(\"XOR output\", fontsize=20)\n",
    "    plt.legend()\n",
    "\n",
    "    # solving problem using matrices form\n",
    "    # A.W = Y\n",
    "    A = []\n",
    "\n",
    "    for i, j,k,l in zip(phi_1, phi_2, phi_3,phi_4):\n",
    "        temp = []\n",
    "        temp.append(i)\n",
    "        temp.append(j)\n",
    "        temp.append(k)\n",
    "        temp.append(l)\n",
    "        temp.append(1)\n",
    "        A.append(temp)\n",
    "    \n",
    "    A = np.array(A)\n",
    "    W = np.linalg.inv(A.T.dot(A)).dot(A.T).dot(ys)\n",
    "    L = W+0.00001*np.random.rand(W.shape[0])\n",
    "    print(f\"Predicted: {np.round(A.dot(L))}\")\n",
    "    print(f\"Actual: {ys}\")\n",
    "    print(f\"Weights: {L}\")\n",
    "    return L"
   ]
  },
  {
   "cell_type": "code",
   "execution_count": 152,
   "metadata": {},
   "outputs": [
    {
     "name": "stdout",
     "output_type": "stream",
     "text": [
      "[0.36787944117144233, 1.0, 0.13533528323661262, 0.36787944117144233]\n",
      "[0.36787944117144233, 0.13533528323661262, 1.0, 0.36787944117144233]\n",
      "[0.3678779696566208, 0.999996000008, 0.13587716498709917, 0.36935242848696326]\n",
      "[0.36787613027137095, 0.13614851050840904, 0.9999910000404999, 0.37009002208677383]\n",
      "Predicted: [0. 1. 1. 0.]\n",
      "Actual: [0 1 1 0]\n",
      "Weights: [ 2.97670018  2.0884297  -0.30272512  0.38445344 -1.8413395 ]\n",
      "Input:[0 0], Predicted: 0.0\n",
      "Input:[0 1], Predicted: 1.0\n",
      "Input:[1 0], Predicted: 1.0\n",
      "Input:[1 1], Predicted: 0.0\n"
     ]
    },
    {
     "data": {
      "image/png": "[encoded data removed]",
      "text/plain": [
       "<Figure size 432x288 with 1 Axes>"
      ]
     },
     "metadata": {},
     "output_type": "display_data"
    }
   ],
   "source": [
    "x1 = np.array([0, 0, 1, 1])\n",
    "x2 = np.array([0, 1, 0, 1])\n",
    "ys = np.array([0, 1, 1, 0])\n",
    "\n",
    "# centers\n",
    "c1 = np.array([0, 1])\n",
    "c2 = np.array([1, 0])\n",
    "c3 = np.array([0.002, 1])\n",
    "c4 = np.array([1, 0.003])\n",
    "\n",
    "w = mapping(x1, x2, ys, c1, c2, c3, c4)\n",
    "\n",
    "\n",
    "# testing\n",
    "print(f\"Input:{np.array([0, 0])}, Predicted: {predict_matrix(np.array([0, 0]), w)}\")\n",
    "print(f\"Input:{np.array([0, 1])}, Predicted: {predict_matrix(np.array([0, 1]), w)}\")\n",
    "print(f\"Input:{np.array([1, 0])}, Predicted: {predict_matrix(np.array([1, 0]), w)}\")\n",
    "print(f\"Input:{np.array([1, 1])}, Predicted: {predict_matrix(np.array([1, 1]), w)}\")"
   ]
  }
 ],
 "metadata": {
  "interpreter": {
   "hash": "e7b777f8ef84db3e0b34a349c99d5b446a392ffdfcfcf1e34076e0bc97c96000"
  },
  "kernelspec": {
   "display_name": "Python 3.10.3 64-bit (windows store)",
   "language": "python",
   "name": "python3"
  },
  "language_info": {
   "codemirror_mode": {
    "name": "ipython",
    "version": 3
   },
   "file_extension": ".py",
   "mimetype": "text/x-python",
   "name": "python",
   "nbconvert_exporter": "python",
   "pygments_lexer": "ipython3",
   "version": "3.10.4"
  },
  "orig_nbformat": 4
 },
 "nbformat": 4,
 "nbformat_minor": 2
}
