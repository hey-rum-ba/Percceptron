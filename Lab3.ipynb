{
 "cells": [
  {
   "cell_type": "code",
   "execution_count": 1,
   "metadata": {},
   "outputs": [
    {
     "name": "stdout",
     "output_type": "stream",
     "text": [
      "0\n",
      "1\n",
      "1\n",
      "0\n"
     ]
    },
    {
     "data": {
      "image/png": "[encoded data removed]",
      "text/plain": [
       "<Figure size 432x288 with 1 Axes>"
      ]
     },
     "metadata": {
      "needs_background": "light"
     },
     "output_type": "display_data"
    }
   ],
   "source": [
    "#boolean expression using perceptron training\n",
    "import numpy as np\n",
    "import matplotlib.pyplot as plt\n",
    "\n",
    "\n",
    "def unistep(x):\n",
    "    if x>= 0:\n",
    "        return 1\n",
    "    else:\n",
    "        return 0\n",
    "\n",
    "def perceptron(x,w,b):\n",
    "    v = np.dot(w,x) + b\n",
    "    return unistep(v)\n",
    "\n",
    "def multipy(x):\n",
    "    w = [0.5,0.5]\n",
    "    b = -0.75\n",
    "    return perceptron(x,w,b)\n",
    "def addition(x):\n",
    "    w = [0.5,0.5]\n",
    "    b = -0.25\n",
    "    return perceptron(x,w,b)\n",
    "def inverse(x):\n",
    "    w = -1\n",
    "    b = 0.5\n",
    "    return perceptron(x,w,b)\n",
    "\n",
    "# F = x + y + xy\n",
    "# Implementing XOR gate as follows (x+y).(x'+y')=> (x+y).(xy)'\n",
    "\n",
    "def XOR(x):\n",
    "    y1 = addition(x)\n",
    "    y2 = multipy(x)\n",
    "    y3 = inverse(y2)\n",
    "    F = multipy(np.array([y3,y1]))\n",
    "    return F\n",
    "\n",
    "test1 = np.array([0,0])\n",
    "test2 = np.array([1,0])\n",
    "test3 = np.array([0,1])\n",
    "test4 = np.array([1,1])\n",
    "\n",
    "print(XOR(test1))\n",
    "print(XOR(test2))\n",
    "print(XOR(test3))\n",
    "print(XOR(test4))\n",
    "\n",
    "\n",
    "# Plotting the XOR gate\n",
    "l1 = np.linspace(-.2,1.2,200)\n",
    "plt.plot(l1,l1+0.4,c = \"black\")\n",
    "plt.plot(l1,l1-0.6,c = \"black\")\n",
    "plt.scatter(1,1,c = 'r',s = 100)\n",
    "plt.scatter(0,0,c = 'r',s = 100)\n",
    "plt.scatter(0,1,c = 'b',s = 100)\n",
    "plt.scatter(1,0,c = 'b',s = 100)\n",
    "plt.fill_between(x = l1,y1=l1+0.4,y2=l1+3,alpha = 0.5,color= 'red')\n",
    "plt.fill_between(x = l1,y1=l1-0.6,y2=l1-2,alpha = 0.5,color= 'red')\n",
    "plt.fill_between(x = l1,y1=l1+0.4,y2=l1-0.6,alpha = 0.5,color= 'white')\n",
    "plt.xlim(-.2,1.2)\n",
    "plt.ylim(-.1,1.1)\n",
    "plt.show()"
   ]
  }
 ],
 "metadata": {
  "interpreter": {
   "hash": "bf29013c481bd32dab387cc1da5f23f06d4f6cbdfbaa4c8197150e9812143f39"
  },
  "kernelspec": {
   "display_name": "Python 3.10.2 64-bit",
   "language": "python",
   "name": "python3"
  },
  "language_info": {
   "codemirror_mode": {
    "name": "ipython",
    "version": 3
   },
   "file_extension": ".py",
   "mimetype": "text/x-python",
   "name": "python",
   "nbconvert_exporter": "python",
   "pygments_lexer": "ipython3",
   "version": "3.10.4"
  },
  "orig_nbformat": 4
 },
 "nbformat": 4,
 "nbformat_minor": 2
}
