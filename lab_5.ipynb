{
 "cells": [
  {
   "cell_type": "code",
   "execution_count": 1,
   "metadata": {},
   "outputs": [],
   "source": [
    "import numpy as np\n",
    "import seaborn as sns\n",
    "from tqdm import tqdm\n",
    "import matplotlib.pyplot as plt\n",
    "\n",
    "%matplotlib inline"
   ]
  },
  {
   "cell_type": "code",
   "execution_count": 2,
   "metadata": {},
   "outputs": [],
   "source": [
    "class MLP:\n",
    "\n",
    "    def __init__(self, train_data, target, lr=0.1, num_epochs=100, num_input=2, num_hidden=2, num_output=1):\n",
    "        self.train_data = train_data\n",
    "        self.target = target\n",
    "        self.lr = lr\n",
    "        self.num_epochs = num_epochs\n",
    "\n",
    "        self.weights_01 = np.random.uniform(size=(num_input, num_hidden))\n",
    "        self.weights_12 = np.random.uniform(size=(num_hidden, num_output))\n",
    "\n",
    "        self.b01 = np.random.uniform(size=(1, num_hidden))\n",
    "        self.b12 = np.random.uniform(size=(1, num_output))\n",
    "\n",
    "        self.losses = []\n",
    "\n",
    "    def update_weights(self):\n",
    "        loss = 0.5 * (self.target - self.output_final) ** 2\n",
    "        self.losses.append(np.sum(loss))\n",
    "        error_term = (self.target - self.output_final) # error term\n",
    "\n",
    "        grad01 = self.train_data.T @ (((error_term * self.delsigmoid(self.output_final)) * self.weights_12.T) * self.delsigmoid(self.hidden_out))\n",
    "        grad12 = self.hidden_out.T @ (error_term * self.delsigmoid(self.output_final))\n",
    "\n",
    "        self.weights_01 += self.lr * grad01\n",
    "        self.weights_12 += self.lr * grad12\n",
    "\n",
    "        self.b01 += np.sum(self.lr * ((error_term * self.delsigmoid(self.output_final)) * self.weights_12.T) * self.delsigmoid(self.hidden_out), axis=0)\n",
    "        self.b12 += np.sum(self.lr * error_term * self.delsigmoid(self.output_final), axis=0)\n",
    "\n",
    "    def sigmoid(self, x):\n",
    "        return 1 / (1 + np.exp(-x))\n",
    "\n",
    "    def delsigmoid(self, x):\n",
    "        return x * (1 - x)\n",
    "\n",
    "    def forward(self, batch):\n",
    "        self.hidden_ = np.dot(batch, self.weights_01) + self.b01\n",
    "        self.hidden_out = self.sigmoid(self.hidden_)\n",
    "\n",
    "        self.output_ = np.dot(self.hidden_out, self.weights_12) + self.b12\n",
    "        self.output_final = self.sigmoid(self.output_)\n",
    "\n",
    "        return self.output_final\n",
    "\n",
    "    def predict(self, datapoint):\n",
    "        datapoint = np.transpose(datapoint)\n",
    "        if self.forward(datapoint) >= 0.5:\n",
    "            return 1\n",
    "\n",
    "        return 0\n",
    "\n",
    "    def plot(self, h=0.01):\n",
    "        sns.set_style('darkgrid')\n",
    "        plt.figure(figsize=(8, 8))\n",
    "\n",
    "        plt.axis('scaled')\n",
    "        plt.xlim(-0.1, 1.1)\n",
    "        plt.ylim(-0.1, 1.1)\n",
    "\n",
    "        colors = {\n",
    "            0: \"ro\",\n",
    "            1: \"go\"\n",
    "        }\n",
    "\n",
    "        for i in range(len(self.train_data)):\n",
    "            plt.plot([self.train_data[i][0]],\n",
    "                     [self.train_data[i][1]],\n",
    "                     colors[self.target[i][0]],\n",
    "                     markersize=20)\n",
    "\n",
    "        x_range = np.arange(-0.1, 1.1, h)\n",
    "        y_range = np.arange(-0.1, 1.1, h)\n",
    "\n",
    "        xx, yy = np.meshgrid(x_range, y_range, indexing='ij')\n",
    "        Z = np.array([[self.predict([x, y]) for x in x_range] for y in y_range])\n",
    "\n",
    "        plt.contourf(xx, yy, Z, colors=['red', 'green', 'green', 'blue'], alpha=0.4)\n",
    "        \n",
    "    def plot_loss(self):\n",
    "        plt.plot(np.arange(self.num_epochs), np.array(xor_mlp.losses))\n",
    "        plt.xlabel(\"# EPOCHS\")\n",
    "        plt.ylabel(\"Loss\")\n",
    "        plt.show()\n",
    "\n",
    "    def train(self):\n",
    "        for _ in tqdm(range(self.num_epochs)):\n",
    "            self.forward(self.train_data)\n",
    "            self.update_weights()\n",
    "            \n",
    "        self.plot_loss()"
   ]
  },
  {
   "cell_type": "code",
   "execution_count": 3,
   "metadata": {},
   "outputs": [],
   "source": [
    "train_data = np.array(\n",
    "    [\n",
    "        [0, 0],\n",
    "        [0, 1],\n",
    "        [1, 0],\n",
    "        [1, 1]])\n",
    "\n",
    "target_xor = np.array(\n",
    "    [\n",
    "        [0],\n",
    "        [1],\n",
    "        [1],\n",
    "        [0]])"
   ]
  },
  {
   "cell_type": "code",
   "execution_count": 4,
   "metadata": {},
   "outputs": [
    {
     "name": "stderr",
     "output_type": "stream",
     "text": [
      "100%|██████████| 10000/10000 [00:01<00:00, 9533.16it/s]\n"
     ]
    },
    {
     "data": {
      "image/png": "[encoded data removed]",
      "text/plain": [
       "<Figure size 432x288 with 1 Axes>"
      ]
     },
     "metadata": {
      "needs_background": "light"
     },
     "output_type": "display_data"
    },
    {
     "data": {
      "image/png": "[encoded data removed]",
      "text/plain": [
       "<Figure size 576x576 with 1 Axes>"
      ]
     },
     "metadata": {},
     "output_type": "display_data"
    }
   ],
   "source": [
    "xor_mlp = MLP(train_data, target_xor, 0.1, 10000)\n",
    "xor_mlp.train()\n",
    "xor_mlp.plot()"
   ]
  },
  {
   "cell_type": "code",
   "execution_count": 5,
   "metadata": {},
   "outputs": [
    {
     "name": "stdout",
     "output_type": "stream",
     "text": [
      "[0 0]:  0\n",
      "[0 1]:  1\n",
      "[1 0]:  0\n",
      "[1 1]:  1\n"
     ]
    }
   ],
   "source": [
    "for data_point in train_data:\n",
    "    print(f\"{data_point}:  {xor_mlp.predict(data_point)}\")"
   ]
  }
 ],
 "metadata": {
  "kernelspec": {
   "display_name": "Python 3 (ipykernel)",
   "language": "python",
   "name": "python3"
  },
  "language_info": {
   "codemirror_mode": {
    "name": "ipython",
    "version": 3
   },
   "file_extension": ".py",
   "mimetype": "text/x-python",
   "name": "python",
   "nbconvert_exporter": "python",
   "pygments_lexer": "ipython3",
   "version": "3.10.4"
  }
 },
 "nbformat": 4,
 "nbformat_minor": 4
}
