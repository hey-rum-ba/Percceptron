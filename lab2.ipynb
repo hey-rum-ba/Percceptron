{
 "cells": [
  {
   "cell_type": "code",
   "execution_count": 39,
   "metadata": {},
   "outputs": [
    {
     "name": "stdout",
     "output_type": "stream",
     "text": [
      "for NAND Gate weight and bias are:\n",
      "Initially w1 = 0, w2 = 0, b = 0\n",
      "(x1, x2)  y  (x1*y, x2*y, y) (w1, w2, b)\n",
      "( 1,  1) -1  (-1, -1, -1)    (-1, -1, -1)\n",
      "( 1, -1)  1  ( 1, -1,  1)    ( 0, -2,  0)\n",
      "(-1,  1)  1  (-1,  1,  1)    (-1, -1,  1)\n",
      "(-1, -1)  1  (-1, -1,  1)    (-2, -2,  2)\n",
      "Finally w1 = -2, w2 = -2, b = 2 \n",
      "\n",
      "for NOR Gate weight and bias are:\n",
      "Initially w1 = 0, w2 = 0, b = 0\n",
      "(x1, x2)  y  (x1*y, x2*y, y) (w1, w2, b)\n",
      "( 1,  1) -1  (-1, -1, -1)    (-1, -1, -1)\n",
      "( 1, -1) -1  (-1,  1, -1)    (-2,  0, -2)\n",
      "(-1,  1) -1  ( 1, -1, -1)    (-1, -1, -3)\n",
      "(-1, -1)  1  (-1, -1,  1)    (-2, -2, -2)\n",
      "Finally w1 = -2, w2 = -2, b = -2 \n",
      "\n"
     ]
    }
   ],
   "source": [
    "#hebb algorithm for weights and bias learning \n",
    "import numpy as np\n",
    "import matplotlib.pyplot as plt\n",
    "import random as rd\n",
    "\n",
    "def hebb_weight(x):\n",
    "    w1,w2,b = 0,0,0\n",
    "    print(f'Initially w1 = {w1}, w2 = {w2}, b = {b}')\n",
    "    print(f'(x1, x2)  y  (x1*y, x2*y, y) (w1, w2, b)')\n",
    "    for x1,x2,y in x:\n",
    "        w1 += x1*y\n",
    "        w2 += x2*y\n",
    "        b += y\n",
    "        print(f'({x1:2}, {x2:2}) {y:2}  ({x1*y:2}, {x2*y:2}, {y:2})    ({w1:2}, {w2:2}, {b:2})')\n",
    "    print(f'Finally w1 = {w1}, w2 = {w2}, b = {b} \\n')\n",
    "NAND_input =  [\n",
    "        [ 1, 1, -1],\n",
    "        [ 1, -1, 1],\n",
    "        [-1, 1, 1],\n",
    "        [-1, -1, 1]\n",
    "    ]\n",
    "\n",
    "NOR_input = [\n",
    "        [ 1, 1, -1],\n",
    "        [ 1, -1, -1],\n",
    "        [-1, 1, -1],\n",
    "        [-1, -1, 1]\n",
    "    ]\n",
    "\n",
    "print(f'for NAND Gate weight and bias are:')\n",
    "hebb_weight(NAND_input)\n",
    "print(f'for NOR Gate weight and bias are:')\n",
    "hebb_weight(NOR_input)\n"
   ]
  }
 ],
 "metadata": {
  "interpreter": {
   "hash": "fd958f726406fa5e9a2668adda5451d062b070121d100d18db3885a73f0ab169"
  },
  "kernelspec": {
   "display_name": "Python 3.9.5 64-bit",
   "language": "python",
   "name": "python3"
  },
  "language_info": {
   "codemirror_mode": {
    "name": "ipython",
    "version": 3
   },
   "file_extension": ".py",
   "mimetype": "text/x-python",
   "name": "python",
   "nbconvert_exporter": "python",
   "pygments_lexer": "ipython3",
   "version": "3.9.5"
  },
  "orig_nbformat": 4
 },
 "nbformat": 4,
 "nbformat_minor": 2
}
